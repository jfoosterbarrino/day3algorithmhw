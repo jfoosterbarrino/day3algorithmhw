{
 "cells": [
  {
   "cell_type": "markdown",
   "metadata": {},
   "source": [
    "# Classic Algorithms"
   ]
  },
  {
   "cell_type": "markdown",
   "metadata": {},
   "source": [
    "## Tasks Today:\n",
    "\n",
    "<b>Continue from yesterday:</b><br>\n",
    "&nbsp;&nbsp;&nbsp;&nbsp; - Generators\n",
    " \n",
    "1) <b>In-Place Algorithms</b> <br>\n",
    " &nbsp;&nbsp;&nbsp;&nbsp; a) Syntax <br>\n",
    " &nbsp;&nbsp;&nbsp;&nbsp; a) Out of Place Algorithm <br>\n",
    " &nbsp;&nbsp;&nbsp;&nbsp; b) In-Class Exercise #1 <br>\n",
    "2) <b>Two Pointers</b> <br>\n",
    "3) <b>Sorting Algorithms</b> <br>\n",
    "4) <b>Merge Sort</b> <br>\n",
    " &nbsp;&nbsp;&nbsp;&nbsp; a) Video on Algorithms <br>\n",
    " &nbsp;&nbsp;&nbsp;&nbsp; b) How it Works <br>\n",
    "5) <b>Exercises</b> <br>\n",
    " &nbsp;&nbsp;&nbsp;&nbsp; a) Exercise #1 - Reverse a List in Place Using an In-Place Algorithm <br>\n",
    " &nbsp;&nbsp;&nbsp;&nbsp; b) Exercise #2 - Find Distinct Words <br>\n",
    " &nbsp;&nbsp;&nbsp;&nbsp; c) Exercise #3 - Write a program to implement a Linear Search Algorithm. <br>"
   ]
  },
  {
   "cell_type": "markdown",
   "metadata": {},
   "source": [
    "## Generators <br>\n",
    "<p>Generators are a type of iterable, like lists or tuples. They do not allow indexing, but they can still be iterated through with for loops. They are created using functions and the yield statement.</p>"
   ]
  },
  {
   "cell_type": "code",
   "execution_count": null,
   "metadata": {},
   "outputs": [],
   "source": []
  },
  {
   "cell_type": "markdown",
   "metadata": {},
   "source": [
    "#### Yield Keyword <br>\n",
    "<p>The yield keyword denotes a generator, it doesn't return so it won't leave the function and reset all variables in the function scope, instead it yields the number back to the caller.</p>"
   ]
  },
  {
   "cell_type": "code",
   "execution_count": null,
   "metadata": {},
   "outputs": [],
   "source": []
  },
  {
   "cell_type": "markdown",
   "metadata": {},
   "source": [
    "#### Infinite Generator"
   ]
  },
  {
   "cell_type": "code",
   "execution_count": null,
   "metadata": {},
   "outputs": [],
   "source": [
    "# bad!! never create infinite loops"
   ]
  },
  {
   "cell_type": "code",
   "execution_count": null,
   "metadata": {},
   "outputs": [],
   "source": []
  },
  {
   "cell_type": "markdown",
   "metadata": {},
   "source": [
    "#### In-Class Exercise #6 <br>\n",
    "<p>Create a generator that takes a number argument and yields that number squared, then prints each number squared until zero is reached.</p>"
   ]
  },
  {
   "cell_type": "code",
   "execution_count": null,
   "metadata": {},
   "outputs": [],
   "source": []
  },
  {
   "cell_type": "markdown",
   "metadata": {},
   "source": [
    "## In-Place Algorithms"
   ]
  },
  {
   "cell_type": "markdown",
   "metadata": {},
   "source": [
    "#### Syntax"
   ]
  },
  {
   "cell_type": "code",
   "execution_count": 7,
   "metadata": {},
   "outputs": [
    {
     "name": "stdout",
     "output_type": "stream",
     "text": [
      "before: [4, 20, 10, 5, 13]\n",
      "after: [4, 13, 10, 5, 20]\n",
      "output: None\n"
     ]
    }
   ],
   "source": [
    "#swap algorithm\n",
    "def swap(list,x,y):\n",
    "    list[x], list[y] = list[y], list[x]\n",
    "    return\n",
    "\n",
    "myList= [4,20,10,5,13]\n",
    "print(f\"before: {myList}\")\n",
    "      \n",
    "output = swap(myList,1,-1)\n",
    "print(f\"after: {myList}\")\n",
    "print(\"output:\", output)"
   ]
  },
  {
   "cell_type": "markdown",
   "metadata": {},
   "source": [
    "#### Out of Place Algorithm"
   ]
  },
  {
   "cell_type": "code",
   "execution_count": 8,
   "metadata": {},
   "outputs": [
    {
     "name": "stdout",
     "output_type": "stream",
     "text": [
      "before: [4, 20, 10, 5, 13]\n",
      "after: [4, 20, 10, 5, 13]\n",
      "output: [4, 13, 10, 5, 20]\n"
     ]
    }
   ],
   "source": [
    "def swap(list,x,y):\n",
    "    copy = list[:]\n",
    "    copy[x], copy[y] = list[y], list[x]\n",
    "    return copy\n",
    "\n",
    "myList= [4,20,10,5,13]\n",
    "print(f\"before: {myList}\")\n",
    "      \n",
    "output = swap(myList,1,-1)\n",
    "print(f\"after: {myList}\")\n",
    "print(\"output:\", output)\n"
   ]
  },
  {
   "cell_type": "markdown",
   "metadata": {},
   "source": [
    "#### In-Class Exercise #1 <br>\n",
    "<p>Write a function that takes in four arguments (list, index1, index2, index3), and swaps those three positions in the list passed in.</p>"
   ]
  },
  {
   "cell_type": "code",
   "execution_count": 16,
   "metadata": {},
   "outputs": [
    {
     "name": "stdout",
     "output_type": "stream",
     "text": [
      "Before: [10, 4, 3, 8, 4, 2, 6]\n",
      "After: [8, 4, 3, 6, 4, 2, 10]\n",
      "complete: None\n"
     ]
    }
   ],
   "source": [
    "l_1 = [10, 4, 3, 8, 4, 2, 6]\n",
    "\n",
    "def inclassswap(list1,x,y,z):\n",
    "    list1[x], list1[y], list1[z] = list1[y], list1[z], list1[x]\n",
    "    return\n",
    "\n",
    "print(f'Before: {l_1}')\n",
    "complete = inclassswap(l_1,0,3,-1)\n",
    "print(f'After: {l_1}')\n",
    "print('complete:', complete)"
   ]
  },
  {
   "cell_type": "markdown",
   "metadata": {},
   "source": [
    "## Two Pointers"
   ]
  },
  {
   "cell_type": "markdown",
   "metadata": {},
   "source": [
    "#### Syntax"
   ]
  },
  {
   "cell_type": "code",
   "execution_count": 22,
   "metadata": {},
   "outputs": [
    {
     "name": "stdout",
     "output_type": "stream",
     "text": [
      "[25, 23, 22, 6, 5, 4, 3, 2, 1]\n"
     ]
    }
   ],
   "source": [
    "def twopointer(list):\n",
    "    left = 0\n",
    "    right = len(list) - 1\n",
    "    while left < right:\n",
    "        list[left],list[right] = list[right], list[left]\n",
    "        left += 1\n",
    "        right -= 1\n",
    "    return\n",
    "\n",
    "myList = [1,2,3,4,5,6,22,23,25]\n",
    "\n",
    "twopointer(myList)\n",
    "print(myList)"
   ]
  },
  {
   "cell_type": "markdown",
   "metadata": {},
   "source": [
    "#### Video of Algorithms <br>\n",
    "<p>Watch the video about algorithms.</p>\n",
    "\n",
    "https://www.youtube.com/watch?v=Q9HjeFD62Uk\n",
    "\n",
    "https://www.youtube.com/watch?v=kPRA0W1kECg\n",
    "\n",
    "https://www.youtube.com/watch?v=ZZuD6iUe3Pc"
   ]
  },
  {
   "cell_type": "markdown",
   "metadata": {},
   "source": [
    "# Sorting Algorithms"
   ]
  },
  {
   "cell_type": "code",
   "execution_count": null,
   "metadata": {},
   "outputs": [],
   "source": []
  },
  {
   "cell_type": "markdown",
   "metadata": {},
   "source": [
    "#### Bubble Sort\n",
    "\n",
    "Worst Case: O(n^2) Time - O(1) Space"
   ]
  },
  {
   "cell_type": "code",
   "execution_count": 34,
   "metadata": {},
   "outputs": [
    {
     "name": "stdout",
     "output_type": "stream",
     "text": [
      "[1, 4, 5, 7, 10, 18, 20, 21, 22]\n"
     ]
    }
   ],
   "source": [
    "def swap(list,x,y):\n",
    "    list[x], list[y] = list[y], list[x]\n",
    "    return\n",
    "\n",
    "def bubblesort(nums):\n",
    "    isSorted = False\n",
    "    count = 0\n",
    "        \n",
    "    while isSorted == False:\n",
    "        #performedSwap = False\n",
    "        for i in range(len(nums)-1-count):\n",
    "            #if right is smaller then swap\n",
    "            if nums[i] > nums[i+1]:\n",
    "                swap(nums,i,i+1)\n",
    "                #performed = True\n",
    "            \n",
    "            #if performedSwap == False:\n",
    "                #isSorted = True\n",
    "                \n",
    "        count += 1\n",
    "        if count == len(nums)-1:\n",
    "            isSorted = True\n",
    "            \n",
    "myList = [1,7,18,21,4,5,20,22,10]\n",
    "\n",
    "bubblesort(myList)\n",
    "print(myList)\n",
    "                "
   ]
  },
  {
   "cell_type": "markdown",
   "metadata": {},
   "source": [
    "##### Insertion Sort\n",
    "\n",
    "Worst Case: O(n^2) time - O(1)space"
   ]
  },
  {
   "cell_type": "code",
   "execution_count": 35,
   "metadata": {},
   "outputs": [
    {
     "name": "stdout",
     "output_type": "stream",
     "text": [
      "[1, 4, 5, 7, 10, 18, 20, 21, 22]\n"
     ]
    }
   ],
   "source": [
    "def insertionSort(nums):\n",
    "    for i in range(1, len(nums)):\n",
    "        j = i\n",
    "        while j > 0 and nums[j] < nums[j-1]:\n",
    "            swap(nums,j, j-1)\n",
    "            j -= 1\n",
    "            \n",
    "myList = [1,7,18,21,4,5,20,22,10]\n",
    "insertionSort(myList)\n",
    "print(myList)            \n",
    "\n",
    "            "
   ]
  },
  {
   "cell_type": "markdown",
   "metadata": {},
   "source": [
    "## Merge Sort"
   ]
  },
  {
   "cell_type": "markdown",
   "metadata": {},
   "source": [
    "#### How it Works"
   ]
  },
  {
   "cell_type": "code",
   "execution_count": 41,
   "metadata": {},
   "outputs": [
    {
     "name": "stdout",
     "output_type": "stream",
     "text": [
      "[1, 4, 5, 7, 10, 18, 20, 21, 22]\n"
     ]
    }
   ],
   "source": [
    "#step 1: split everything in its own group\n",
    "#step 2: from left to right, merge group together\n",
    "#step 3: while merging, place each item in the correct position within the merged group\n",
    "#step 4: continue steps 1-3 until group 1 is left\n",
    "\n",
    "def mergeSort(nums):\n",
    "    #step 1: divide into equal halves\n",
    "    if len(nums)>1:\n",
    "        mid = len(nums)//2\n",
    "        lefthalf = nums[:mid]\n",
    "        righthalf = nums[mid:]\n",
    "        \n",
    "        # recursively split left and right halves if needed\n",
    "        mergeSort(lefthalf)\n",
    "        mergeSort(righthalf)\n",
    "        \n",
    "        # index pointer for 3 lists\n",
    "        i = 0 # pointer for the left \n",
    "        j = 0 # pointer for the right\n",
    "        k = 0 # pointer for the main list\n",
    "        \n",
    "        # step 2: merge lists\n",
    "        while i<len(lefthalf) and j<len(righthalf):\n",
    "            if lefthalf[i] < righthalf[j]:\n",
    "                nums[k] = lefthalf[i]\n",
    "                i += 1\n",
    "            else:\n",
    "                nums[k] = righthalf[j]\n",
    "                j += 1\n",
    "            k+=1\n",
    "            \n",
    "        #step 3: when one side finishes.. place the other list into the main array\n",
    "        while i < len(lefthalf):\n",
    "            nums[k] = lefthalf[i]\n",
    "            i+=1\n",
    "            k+=1\n",
    "        while j < len(righthalf):\n",
    "            nums[k] = righthalf[j]\n",
    "            j+=1\n",
    "            k+=1\n",
    "        \n",
    "    return\n",
    "\n",
    "myList = [1,7,18,21,4,5,20,22,10]\n",
    "\n",
    "mergeSort(myList)\n",
    "print(myList)"
   ]
  },
  {
   "cell_type": "markdown",
   "metadata": {},
   "source": [
    "# Binary Search\n",
    "\n",
    "The Binary Search algorithm works by finding the number in the middle of a given array and comparing it to the target. Given that the array is sorted\n",
    "\n",
    "* The worst case run time for this algorithm is `O(log(n))`"
   ]
  },
  {
   "cell_type": "code",
   "execution_count": 43,
   "metadata": {},
   "outputs": [
    {
     "name": "stdout",
     "output_type": "stream",
     "text": [
      "[1, 2, 3, 3, 3, 3, 3, 3, 5, 5, 32, 34, 42, 43, 54, 54, 54, 65, 74, 432, 534, 534, 543, 554, 643, 645, 765]\n"
     ]
    },
    {
     "data": {
      "text/plain": [
       "'I found my match 43 at index 13'"
      ]
     },
     "execution_count": 43,
     "metadata": {},
     "output_type": "execute_result"
    }
   ],
   "source": [
    "def binarySearch(list1, target):\n",
    "    left = 0\n",
    "    right = len(list1)\n",
    "    while left<right:\n",
    "        middle = (left + right) // 2\n",
    "        potentialMatch = list1[middle]\n",
    "        if target == potentialMatch:\n",
    "            return f'I found my match {potentialMatch} at index {middle}'\n",
    "        elif target < potentialMatch:\n",
    "            right = middle - 1\n",
    "        else:\n",
    "            left = middle + 1\n",
    "            \n",
    "    return \"Not Found\"\n",
    "\n",
    "x = sorted([1,2,534,765,32,3,54,43,534,645,74,543,432,643,65,5,54,34,3,42,554,54,3,3,3,3,5])\n",
    "print(x)\n",
    "binarySearch(x,43)"
   ]
  },
  {
   "cell_type": "markdown",
   "metadata": {},
   "source": [
    "# Exercises"
   ]
  },
  {
   "cell_type": "markdown",
   "metadata": {},
   "source": [
    "### Exercise #1 <br>\n",
    "<p>Reverse the list below in-place using an in-place algorithm.<br>For extra credit: Reverse the strings at the same time.</p>"
   ]
  },
  {
   "cell_type": "code",
   "execution_count": 45,
   "metadata": {},
   "outputs": [
    {
     "name": "stdout",
     "output_type": "stream",
     "text": [
      "['.', 'sentence', 'a', 'is', 'this']\n"
     ]
    }
   ],
   "source": [
    "words = ['this' , 'is', 'a', 'sentence', '.']\n",
    "\n",
    "def reverse_words(any_list):\n",
    "    left = 0\n",
    "    right = len(any_list)-1\n",
    "    while left < right:\n",
    "        any_list[left], any_list[right] = any_list[right], any_list[left]\n",
    "        left += 1\n",
    "        right -= 1\n",
    "    return\n",
    "\n",
    "reverse_words(words)\n",
    "print(words)\n"
   ]
  },
  {
   "cell_type": "markdown",
   "metadata": {},
   "source": [
    "### Exercise #2 <br>\n",
    "<p>Create a function that counts how many distinct words are in the string below, then outputs a dictionary with the words as the key and the value as the amount of times that word appears in the string.<br>Should output:<br>{'a': 5,<br>\n",
    " 'abstract': 1,<br>\n",
    " 'an': 3,<br>\n",
    " 'array': 2, ... etc...</p>"
   ]
  },
  {
   "cell_type": "code",
   "execution_count": null,
   "metadata": {},
   "outputs": [],
   "source": []
  },
  {
   "cell_type": "code",
   "execution_count": 73,
   "metadata": {},
   "outputs": [
    {
     "name": "stdout",
     "output_type": "stream",
     "text": [
      "{'a': 5, 'abstract': 1, 'an': 3, 'array': 2, 'associative': 1, 'be': 1, 'buckets': 1, 'can': 2, 'compute': 1, 'computing,': 1, 'data': 2, 'desired': 1, 'found': 1, 'from': 1, 'function': 1, 'hash': 4, 'implements': 1, 'in': 1, 'index': 1, 'into': 1, 'is': 1, 'keys': 1, 'map': 2, 'of': 1, 'or': 1, 'slots': 1, 'structure': 2, 'table': 2, 'that': 1, 'the': 1, 'to': 2, 'type,': 1, 'uses': 1, 'value': 1, 'values.': 1, 'which': 2}\n"
     ]
    }
   ],
   "source": [
    "a_text = 'In computing, a hash table hash map is a data structure which implements an associative array abstract data type, a structure that can map keys to values. A hash table uses a hash function to compute an index into an array of buckets or slots from which the desired value can be found'\n",
    "\n",
    "def display_count_words(any_string):\n",
    "    any_string = any_string.lower()\n",
    "    any_string_list = list(any_string.split())\n",
    "    any_string_list.sort()\n",
    "    string_count = {}\n",
    "    for index, word in enumerate(any_string_list):\n",
    "        if word not in string_count:\n",
    "            string_count[word]= any_string_list.count(word)\n",
    "    print(string_count)\n",
    "    \n",
    "display_count_words(a_text)\n",
    "    \n",
    "\n",
    "\n",
    "\n",
    "\n",
    "    "
   ]
  },
  {
   "cell_type": "markdown",
   "metadata": {},
   "source": [
    "## Exercise #3\n",
    "\n",
    "Write a program to implement a Linear Search Algorithm. Also in a comment, write the Time Complexity of the following algorithm.\n",
    "\n",
    "#### Hint: Linear Searching will require searching a list for a given number. "
   ]
  },
  {
   "cell_type": "code",
   "execution_count": 80,
   "metadata": {},
   "outputs": [
    {
     "data": {
      "text/plain": [
       "True"
      ]
     },
     "execution_count": 80,
     "metadata": {},
     "output_type": "execute_result"
    }
   ],
   "source": [
    "def linear_search(any_list, target):\n",
    "    for num in any_list:\n",
    "        if target == num:\n",
    "            return True\n",
    "    else:\n",
    "        return False\n",
    "\n",
    "random_list = [4,5,8,2,6,9,7,3,24,19,110,564,1219]\n",
    "linear_search(random_list, 1219)\n",
    "        "
   ]
  }
 ],
 "metadata": {
  "kernelspec": {
   "display_name": "Python 3 (ipykernel)",
   "language": "python",
   "name": "python3"
  },
  "language_info": {
   "codemirror_mode": {
    "name": "ipython",
    "version": 3
   },
   "file_extension": ".py",
   "mimetype": "text/x-python",
   "name": "python",
   "nbconvert_exporter": "python",
   "pygments_lexer": "ipython3",
   "version": "3.9.7"
  }
 },
 "nbformat": 4,
 "nbformat_minor": 2
}
